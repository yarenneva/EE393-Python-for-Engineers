{
 "cells": [
  {
   "cell_type": "markdown",
   "metadata": {},
   "source": [
    "\n",
    "EE393 Python for Engineers\n",
    "---------------------------\n",
    "\n",
    "Supplementary codes to online class\n",
    "\n",
    "12.10.2020\n"
   ]
  },
  {
   "cell_type": "code",
   "execution_count": 1,
   "metadata": {},
   "outputs": [
    {
     "name": "stdout",
     "output_type": "stream",
     "text": [
      "vv is  21\n",
      "21  to the power of  3 is  9261\n",
      "9261 divided by  13  gives  5  as the remainder\n",
      "9261 / 13 = 712.3846153846154 (real division)\n",
      "9261 / 13 = 712 (integer division)\n",
      "val4 : 20\n",
      "val1 : 243\n"
     ]
    }
   ],
   "source": [
    "# Assignments\n",
    "val1 = 3\n",
    "val2 = 7; val3=5;\n",
    "val4 = 13\n",
    "v1,v2,v3=3,8,10\n",
    "vv = v1+v2+v3\n",
    "print (\"vv is \", vv)\n",
    "vnew = vv**val1 #taking exponent\n",
    "print (vv,\" to the power of \", val1, \"is \", vnew)\n",
    "remainder = vnew%val4\n",
    "print (vnew, \"divided by \", val4, \" gives \", remainder, \" as the remainder\")\n",
    "print (vnew, \"/\", val4, \"=\", vnew/val4, \"(real division)\")\n",
    "print (vnew, \"/\", val4, \"=\", vnew//val4, \"(integer division)\")\n",
    "\n",
    "val4 += val2  #val4 = val4 + val2; similarly -=, *=, /=, %=, //=, **=\n",
    "val1 **= val3\n",
    "print (\"val4 :\", val4)\n",
    "print (\"val1 :\", val1)"
   ]
  },
  {
   "cell_type": "code",
   "execution_count": 2,
   "metadata": {},
   "outputs": [
    {
     "name": "stdout",
     "output_type": "stream",
     "text": [
      "Test 1:  False\n",
      "Test 2:  True\n",
      "Test 3:  True\n",
      "Test 4:  False\n",
      "Test 5:  False\n",
      "Test 6:  True\n",
      "Test 7:  True\n"
     ]
    }
   ],
   "source": [
    "x = 2\n",
    "y = -6\n",
    "z = False\n",
    "print (\"Test 1: \", x>2)\n",
    "print (\"Test 2: \", x<=2)\n",
    "print (\"Test 3: \", -1<x<5)\n",
    "print (\"Test 4: \", not x)\n",
    "print (\"Test 5: \", 3<y<8 and x>0)\n",
    "print (\"Test 6: \", 3<y<8 or x>0)\n",
    "myRes = (x+y)<0\n",
    "print (\"Test 7: \", myRes and 0<x<=2)"
   ]
  },
  {
   "cell_type": "code",
   "execution_count": 1,
   "metadata": {},
   "outputs": [
    {
     "name": "stdout",
     "output_type": "stream",
     "text": [
      "False True True\n"
     ]
    }
   ],
   "source": [
    "#Identity operators\n",
    "name1 = \"Jon Snow\"\n",
    "name2 = \"Jon Snow\"\n",
    "iden1 = name1 is name2\n",
    "iden2 = name1 == name2\n",
    "iden3 = name1 is not name2\n",
    "print (iden1, iden2, iden3)"
   ]
  },
  {
   "cell_type": "code",
   "execution_count": 2,
   "metadata": {},
   "outputs": [
    {
     "data": {
      "text/plain": [
       "sys.float_info(max=1.7976931348623157e+308, max_exp=1024, max_10_exp=308, min=2.2250738585072014e-308, min_exp=-1021, min_10_exp=-307, dig=15, mant_dig=53, epsilon=2.220446049250313e-16, radix=2, rounds=1)"
      ]
     },
     "execution_count": 2,
     "metadata": {},
     "output_type": "execute_result"
    }
   ],
   "source": [
    "#floating point limit\n",
    "import sys\n",
    "sys.float_info"
   ]
  },
  {
   "cell_type": "code",
   "execution_count": 5,
   "metadata": {},
   "outputs": [
    {
     "name": "stdout",
     "output_type": "stream",
     "text": [
      "True True False\n"
     ]
    }
   ],
   "source": [
    "#Membership operators\n",
    "name1 = \"Jon Snow\"\n",
    "searchKey = \"JON\"\n",
    "r1 = \"Jon\" in name1\n",
    "r2 = \"Dragon\" not in name1\n",
    "r3 = searchKey in name1\n",
    "print (r1, r2, r3)"
   ]
  },
  {
   "cell_type": "code",
   "execution_count": 6,
   "metadata": {},
   "outputs": [
    {
     "name": "stdout",
     "output_type": "stream",
     "text": [
      "<class 'int'>\n",
      "<class 'float'>\n",
      "<class 'complex'>\n",
      "Type of  Hello world\n",
      " is <class 'str'>\n",
      "<class 'bool'>\n"
     ]
    }
   ],
   "source": [
    "#type\n",
    "a = 2\n",
    "print (type(a))\n",
    "print (type (2.0))\n",
    "c = 2 + 3j\n",
    "print (type(c))\n",
    "msg = \"Hello world\\n\"\n",
    "print (\"Type of \", msg, \"is\", type (msg))\n",
    "print (type (True))"
   ]
  },
  {
   "cell_type": "code",
   "execution_count": 7,
   "metadata": {},
   "outputs": [
    {
     "name": "stdout",
     "output_type": "stream",
     "text": [
      "17\n",
      "2.0\n",
      "(2+0j)\n",
      "(2+3j)\n",
      "5.175000000000001\n",
      "(2+3j)\n"
     ]
    }
   ],
   "source": [
    "#conversions\n",
    "print (int (2.5*7))\n",
    "print (float(a))\n",
    "print (complex(a))\n",
    "print (str(c))\n",
    "str2 = \"3.45\"\n",
    "print (float(str2)*1.5)\n",
    "print (complex(2,3))"
   ]
  },
  {
   "cell_type": "code",
   "execution_count": 8,
   "metadata": {},
   "outputs": [
    {
     "name": "stdout",
     "output_type": "stream",
     "text": [
      "inf\n",
      "nan\n",
      "None <class 'NoneType'>\n"
     ]
    }
   ],
   "source": [
    "import math\n",
    "bound = math.inf\n",
    "print (2*bound)\n",
    "\n",
    "d=math.nan\n",
    "e = None\n",
    "\n",
    "print(d)\n",
    "print (e, type(e))"
   ]
  },
  {
   "cell_type": "code",
   "execution_count": 9,
   "metadata": {},
   "outputs": [
    {
     "name": "stdout",
     "output_type": "stream",
     "text": [
      "False\n",
      "True\n"
     ]
    }
   ],
   "source": [
    "xx = 3.75\n",
    "print (isinstance(xx,int))\n",
    "print (isinstance(math.pi,float))"
   ]
  },
  {
   "cell_type": "code",
   "execution_count": 10,
   "metadata": {},
   "outputs": [
    {
     "name": "stdout",
     "output_type": "stream",
     "text": [
      "(4, 16)\n",
      "5.89\n",
      "4\n",
      "0.38450722824313915\n",
      "0.66599\n"
     ]
    }
   ],
   "source": [
    "#built-in functions\n",
    "print (divmod(100,21)) #quotient is 4 and remainder is 14\n",
    "print (abs(-5.89))\n",
    "x = pow(4, 3, 5) #4^3 mod 5\n",
    "print (x)\n",
    "print (pow(3,-0.87))\n",
    "print (round(pow(3,-0.37),5))"
   ]
  },
  {
   "cell_type": "code",
   "execution_count": 11,
   "metadata": {},
   "outputs": [
    {
     "name": "stdout",
     "output_type": "stream",
     "text": [
      "['__doc__', '__loader__', '__name__', '__package__', '__spec__', 'acos', 'acosh', 'asin', 'asinh', 'atan', 'atan2', 'atanh', 'ceil', 'comb', 'copysign', 'cos', 'cosh', 'degrees', 'dist', 'e', 'erf', 'erfc', 'exp', 'expm1', 'fabs', 'factorial', 'floor', 'fmod', 'frexp', 'fsum', 'gamma', 'gcd', 'hypot', 'inf', 'isclose', 'isfinite', 'isinf', 'isnan', 'isqrt', 'ldexp', 'lgamma', 'log', 'log10', 'log1p', 'log2', 'modf', 'nan', 'perm', 'pi', 'pow', 'prod', 'radians', 'remainder', 'sin', 'sinh', 'sqrt', 'tan', 'tanh', 'tau', 'trunc']\n",
      "Return the square root of x.\n"
     ]
    }
   ],
   "source": [
    "#investigate math library\n",
    "import math\n",
    "print (dir (math))\n",
    "print (math.sqrt.__doc__) #to get built-in help"
   ]
  },
  {
   "cell_type": "code",
   "execution_count": 13,
   "metadata": {},
   "outputs": [
    {
     "name": "stdout",
     "output_type": "stream",
     "text": [
      "42 I like you\n",
      "I\n",
      "10\n",
      "I like\n",
      "you\n",
      "u\n"
     ]
    }
   ],
   "source": [
    "#strings\n",
    "\n",
    "# create a string\n",
    "ss = str(42) # convert another data type into a string\n",
    "s = 'I like you'\n",
    "print (ss, s)\n",
    "\n",
    "# examine a string\n",
    "print (s[0]) # returns 'I'\n",
    "print (len(s)) # returns 10\n",
    "\n",
    "# string slicing\n",
    "print (s[:6]) # returns 'I like'\n",
    "print (s[7:]) # returns 'you'\n",
    "print (s[-1]) # returns ‘u’"
   ]
  },
  {
   "cell_type": "code",
   "execution_count": 16,
   "metadata": {},
   "outputs": [
    {
     "name": "stdout",
     "output_type": "stream",
     "text": [
      "i like you\n",
      "I LIKE YOU\n",
      "True\n",
      "True\n",
      "False\n",
      "2\n",
      "-1\n",
      "The meaning of life is 42\n",
      "steak and cheese\n"
     ]
    }
   ],
   "source": [
    "# basic string methods (does not modify the original) \n",
    "print (s.lower()) # returns 'i like you’ \n",
    "print (s.upper()) # returns 'I LIKE YOU’ \n",
    "print (s.startswith('I')) # returns True \n",
    "print (s.endswith('you')) # returns True \n",
    "print (s.isdigit()) # returns False (returns True if every character in the string is a digit) \n",
    "print (s.find('like')) # returns index of first occurrence (2) \n",
    "print (s.find('hate')) # returns -1 since not found s.replace('like', 'love') # replaces all instances of 'like' with 'love’,\n",
    "# concatenate strings \n",
    "s3 = 'The meaning of life is' \n",
    "s4 = '42' \n",
    "print(s3 + ' ' + s4) # returns 'The meaning of life is 42'\n",
    "# remove whitespace from start and end of a string \n",
    "s5 = ' steak and cheese ' \n",
    "print (s5.strip()) # returns 'steak and cheese'\n"
   ]
  },
  {
   "cell_type": "code",
   "execution_count": 17,
   "metadata": {},
   "outputs": [
    {
     "name": "stdout",
     "output_type": "stream",
     "text": [
      "[1, 2.0, 'ali', '0zU', (3+2j), None, nan, 3.141592653589793]\n",
      "ali\n",
      "[1, 2.0, 'ali', 'veli', (3+2j), None, nan, 3.141592653589793]\n"
     ]
    }
   ],
   "source": [
    "#Lists\n",
    "#A list is an ordered set of objects, irrespective of its data type. \n",
    "#It can be defined by enclosing a set of values in square brackets\n",
    "myList = [1,2.0,'ali',\"0zU\",3+2j, None, math.nan, math.pi]\n",
    "print (myList)\n",
    "print (myList[2])\n",
    "myList[3]=\"veli\"\n",
    "print (myList)"
   ]
  },
  {
   "cell_type": "code",
   "execution_count": 18,
   "metadata": {},
   "outputs": [
    {
     "name": "stdout",
     "output_type": "stream",
     "text": [
      "(1, 2.0, 'ali', '0zU', (3+2j), None, nan, 3.141592653589793)\n",
      "ali\n"
     ]
    },
    {
     "ename": "TypeError",
     "evalue": "'tuple' object does not support item assignment",
     "output_type": "error",
     "traceback": [
      "\u001b[1;31m---------------------------------------------------------------------------\u001b[0m",
      "\u001b[1;31mTypeError\u001b[0m                                 Traceback (most recent call last)",
      "\u001b[1;32m<ipython-input-18-3cc5e43fe019>\u001b[0m in \u001b[0;36m<module>\u001b[1;34m\u001b[0m\n\u001b[0;32m      3\u001b[0m \u001b[0mprint\u001b[0m \u001b[1;33m(\u001b[0m\u001b[0mmyList\u001b[0m\u001b[1;33m)\u001b[0m\u001b[1;33m\u001b[0m\u001b[1;33m\u001b[0m\u001b[0m\n\u001b[0;32m      4\u001b[0m \u001b[0mprint\u001b[0m \u001b[1;33m(\u001b[0m\u001b[0mmyList\u001b[0m\u001b[1;33m[\u001b[0m\u001b[1;36m2\u001b[0m\u001b[1;33m]\u001b[0m\u001b[1;33m)\u001b[0m\u001b[1;33m\u001b[0m\u001b[1;33m\u001b[0m\u001b[0m\n\u001b[1;32m----> 5\u001b[1;33m \u001b[0mmyList\u001b[0m\u001b[1;33m[\u001b[0m\u001b[1;36m3\u001b[0m\u001b[1;33m]\u001b[0m\u001b[1;33m=\u001b[0m\u001b[1;34m\"veli\"\u001b[0m \u001b[1;31m#will give an error\u001b[0m\u001b[1;33m\u001b[0m\u001b[1;33m\u001b[0m\u001b[0m\n\u001b[0m\u001b[0;32m      6\u001b[0m \u001b[0mprint\u001b[0m \u001b[1;33m(\u001b[0m\u001b[0mmyList\u001b[0m\u001b[1;33m)\u001b[0m\u001b[1;33m\u001b[0m\u001b[1;33m\u001b[0m\u001b[0m\n",
      "\u001b[1;31mTypeError\u001b[0m: 'tuple' object does not support item assignment"
     ]
    }
   ],
   "source": [
    "#Tuples\n",
    "myList = (1,2.0,'ali',\"0zU\",3+2j, None, math.nan, math.pi)\n",
    "print (myList)\n",
    "print (myList[2])\n",
    "myList[3]=\"veli\" #will give an error\n",
    "print (myList)\n"
   ]
  },
  {
   "cell_type": "code",
   "execution_count": 19,
   "metadata": {},
   "outputs": [
    {
     "name": "stdout",
     "output_type": "stream",
     "text": [
      "{'nick': 'ghost', 'level': 17, 'guns': ['arrow', 'laser', 'pistol']}\n",
      "['arrow', 'laser', 'pistol']\n"
     ]
    }
   ],
   "source": [
    "#Simple dictionary\n",
    "person={'age':21,'height':1.79, 'location':'Istanbul'}\n",
    "player={'nick':\"ghost\", \"level\":17, \"guns\":['arrow','laser','pistol']}\n",
    "print (player)\n",
    "print (player['guns'])"
   ]
  },
  {
   "cell_type": "code",
   "execution_count": 20,
   "metadata": {},
   "outputs": [
    {
     "name": "stdout",
     "output_type": "stream",
     "text": [
      "What's your name? yaren\n",
      "Nice to meet you yaren!\n",
      "Your age? 25\n",
      "So, you are already 25 years old, yaren!\n",
      "Your age? 25\n",
      "625\n"
     ]
    }
   ],
   "source": [
    "#Simple input\n",
    "name = input(\"What's your name? \")\n",
    "print(\"Nice to meet you \" + name + \"!\")\n",
    "age = input(\"Your age? \")\n",
    "\n",
    "print(\"So, you are already \" + age + \" years old, \" + name + \"!\")\n",
    "\n",
    "age = int(input(\"Your age? \"))\n",
    "print (age*age)"
   ]
  },
  {
   "cell_type": "code",
   "execution_count": 21,
   "metadata": {},
   "outputs": [
    {
     "name": "stdout",
     "output_type": "stream",
     "text": [
      "Enter coefficient a :4\n",
      "Enter coefficient b :-5\n",
      "Enter constant term c :6\n",
      "The equation is: 4x^2+-5x+6=0\n",
      "No real root\n",
      "\n",
      "End of execution. Thank you!\n"
     ]
    }
   ],
   "source": [
    "#------------------------------------------\n",
    "#This program calculates real roots of ax^2 + bx + c = 0\n",
    "#a,b,c are real numbers and taken from the console input\n",
    "#(^C)O.Gökçöl, EE393 intro example\n",
    "#12.10.2020 : Initial version, v1.0\n",
    "#------------------------------------------\n",
    "import math\n",
    "a = input (\"Enter coefficient a :\")\n",
    "b = input (\"Enter coefficient b :\")\n",
    "c = input (\"Enter constant term c :\")\n",
    "print (\"The equation is: \", a,\"x^2+\",b,\"x+\",c,\"=0\",sep='')\n",
    "a = float(a); b= float(b); c=float(c)\n",
    "delta = b*b -4*a*c\n",
    "if delta>=0:\n",
    "    x1 = (-b + math.sqrt(delta))/2*a\n",
    "    x2 = (-b - math.sqrt(delta))/2*a\n",
    "    print (\"Roots are; x1=\",round(x1,4),\"x2=\",round(x2,4))\n",
    "else:\n",
    "    print (\"No real root\\n\")\n",
    "print (\"End of execution. Thank you!\")"
   ]
  },
  {
   "cell_type": "code",
   "execution_count": 24,
   "metadata": {},
   "outputs": [
    {
     "name": "stdout",
     "output_type": "stream",
     "text": [
      "Found. 203 is dividable to 17 or 21\n",
      "Found. 221 is dividable to 17 or 21\n",
      "Found. 406 is dividable to 17 or 21\n",
      "Found. 442 is dividable to 17 or 21\n",
      "Found. 609 is dividable to 17 or 21\n",
      "Found. 663 is dividable to 17 or 21\n",
      "Found. 812 is dividable to 17 or 21\n",
      "Found. 884 is dividable to 17 or 21\n",
      "A total of  8  number found.\n",
      "Program ended\n"
     ]
    }
   ],
   "source": [
    "#program to print all integers which are between 1 and 1000 \n",
    "#and dividable by 103 or 121\n",
    "#EE393 Simple looping -exercise; 12.10.2020\n",
    "\n",
    "number = 1\n",
    "count = 0\n",
    "while number<=1000:\n",
    "    if number%203==0 or number%221==0:\n",
    "        print (\"Found.\", number, \"is dividable to 17 or 21\")\n",
    "        count += 1\n",
    "    number += 1\n",
    "print (\"A total of \", count, \" number found.\")\n",
    "print (\"Program ended\")\n"
   ]
  },
  {
   "cell_type": "code",
   "execution_count": 25,
   "metadata": {},
   "outputs": [
    {
     "name": "stdout",
     "output_type": "stream",
     "text": [
      "apple\n",
      "banana\n",
      "cherry\n"
     ]
    }
   ],
   "source": [
    "#simple for loop examples\n",
    "fruits = [\"apple\", \"banana\", \"cherry\"]\n",
    "for x in fruits:\n",
    "    print(x)"
   ]
  },
  {
   "cell_type": "code",
   "execution_count": 26,
   "metadata": {},
   "outputs": [
    {
     "name": "stdout",
     "output_type": "stream",
     "text": [
      "b\n",
      "a\n",
      "n\n",
      "a\n",
      "n\n",
      "a\n"
     ]
    }
   ],
   "source": [
    "for x in \"banana\":\n",
    "    print (x)"
   ]
  },
  {
   "cell_type": "code",
   "execution_count": 27,
   "metadata": {},
   "outputs": [
    {
     "name": "stdout",
     "output_type": "stream",
     "text": [
      "We're on time 0\n",
      "We're on time 1\n",
      "We're on time 2\n",
      "We're on time 3\n"
     ]
    }
   ],
   "source": [
    "#for loop with range()\n",
    "for x in range(0,4):\n",
    "    print (\"We're on time %d\" % (x))"
   ]
  },
  {
   "cell_type": "code",
   "execution_count": 28,
   "metadata": {},
   "outputs": [
    {
     "name": "stdout",
     "output_type": "stream",
     "text": [
      "2**4**6**8**10**12**14**16**18**20**22**24**\n",
      "0 4 8 12 16 20 24 28 \n",
      "15 18 21 24 "
     ]
    }
   ],
   "source": [
    "# incremented by 2 \n",
    "for i in range(2, 25, 2): \n",
    "    print(i, end =\"**\") \n",
    "print() \n",
    "  \n",
    "# incremented by 4 \n",
    "for i in range(0, 30, 4): \n",
    "    print(i, end =\" \") \n",
    "print() \n",
    "  \n",
    "# incremented by 3 \n",
    "for i in range(15, 25, 3): \n",
    "    print(i, end =\" \") "
   ]
  },
  {
   "cell_type": "code",
   "execution_count": 29,
   "metadata": {},
   "outputs": [
    {
     "name": "stdout",
     "output_type": "stream",
     "text": [
      "[0, 1, 2, 3, 4, 5, 6, 7]\n"
     ]
    }
   ],
   "source": [
    "print(list(range(8)))"
   ]
  },
  {
   "cell_type": "code",
   "execution_count": 30,
   "metadata": {},
   "outputs": [
    {
     "name": "stdout",
     "output_type": "stream",
     "text": [
      "[-10, -9, -8, -7, -6, -5, -4, -3, -2, -1, 0, 1, 2, 3, 4, 5, 6, 7, 8, 9]\n"
     ]
    }
   ],
   "source": [
    "x=list(range(-10,10,1))\n",
    "print (x)"
   ]
  },
  {
   "cell_type": "code",
   "execution_count": null,
   "metadata": {},
   "outputs": [],
   "source": []
  }
 ],
 "metadata": {
  "kernelspec": {
   "display_name": "Python 3",
   "language": "python",
   "name": "python3"
  },
  "language_info": {
   "codemirror_mode": {
    "name": "ipython",
    "version": 3
   },
   "file_extension": ".py",
   "mimetype": "text/x-python",
   "name": "python",
   "nbconvert_exporter": "python",
   "pygments_lexer": "ipython3",
   "version": "3.8.5"
  }
 },
 "nbformat": 4,
 "nbformat_minor": 4
}
