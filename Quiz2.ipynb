{
 "cells": [
  {
   "cell_type": "markdown",
   "metadata": {},
   "source": [
    "#### Neva Yaren Bulut SO15687"
   ]
  },
  {
   "cell_type": "code",
   "execution_count": 1,
   "metadata": {},
   "outputs": [
    {
     "name": "stdout",
     "output_type": "stream",
     "text": [
      "\n",
      "enter the secret message : yaren\n",
      "enter the processing type(1 for encode , 2 for decode) : 1\n",
      "decoded version : yaren\n",
      "encoded version : lnera\n",
      "do you want to continue(yes/no): yes\n",
      "\n",
      "enter the secret message : elma\n",
      "enter the processing type(1 for encode , 2 for decode) : 2\n",
      "decoded version : ryzn\n",
      "encoded version : elma\n",
      "do you want to continue(yes/no): yes\n",
      "\n",
      "enter the secret message : figen\n",
      "enter the processing type(1 for encode , 2 for decode) : 2\n",
      "decoded version : svtra\n",
      "encoded version : figen\n",
      "do you want to continue(yes/no): no\n"
     ]
    }
   ],
   "source": [
    "myKey = {'a':'n','b':'o','c':'p','d':'q','e':'r','f':'s',\n",
    "       'g':'t','h':'u','i':'v','j':'w','k':'x','l':'y',\n",
    "'m':'z','n':'a','o':'b','p':'c','q':'d','r':'e',\n",
    "'s':'f','t':'g','u':'h','v':'i','w':'j','x':'k',\n",
    "'y':'l','z':'m','A':'N','B':'O','C':'P','D':'Q',\n",
    "'E':'R','F':'S','G':'T','H':'U','I':'V','J':'W',\n",
    "'K':'X','L':'Y','M':'Z','N':'A','O':'B','P':'C',\n",
    "'Q':'D','R':'E','S':'F','T':'G','U':'H','V':'I',\n",
    "'W':'J','X':'K','Y':'L','Z':'M'\n",
    "}\n",
    "\n",
    "while(True):\n",
    "    \n",
    "    m=input(\"\\nenter the secret message : \")\n",
    "    tt=input(\"enter the processing type(1 for encode , 2 for decode) : \")\n",
    "    encoded_version=\"\"\n",
    "    decoded_version=\"\"\n",
    "    result=\"\"\n",
    "    \n",
    "    for letter in m:\n",
    "        result=result+myKey[letter]\n",
    "        \n",
    "        if(tt==\"1\"):#if the user chooses 1, the encoded version will be change else decoded version will change\n",
    "            decoded_version=m\n",
    "            encoded_version=result\n",
    "            \n",
    "        else:\n",
    "            encoded_version=m\n",
    "            decoded_version=result\n",
    "            \n",
    "    print(\"decoded version : %s\"%(decoded_version))\n",
    "    print(\"encoded version : %s\"%(encoded_version))\n",
    "    \n",
    "    file=open(\"secret.txt\",\"a\") #I used mode 'a' for appending decoded version and encoded version of the string to text file\n",
    "    file.write(\" %s %s \\n\"%(decoded_version,encoded_version))\n",
    "    \n",
    "    cont=input(\"do you want to continue(yes/no): \") \n",
    "    \n",
    "    if(cont==\"no\"):\n",
    "        break\n",
    "            "
   ]
  },
  {
   "cell_type": "code",
   "execution_count": null,
   "metadata": {},
   "outputs": [],
   "source": []
  }
 ],
 "metadata": {
  "kernelspec": {
   "display_name": "Python 3",
   "language": "python",
   "name": "python3"
  },
  "language_info": {
   "codemirror_mode": {
    "name": "ipython",
    "version": 3
   },
   "file_extension": ".py",
   "mimetype": "text/x-python",
   "name": "python",
   "nbconvert_exporter": "python",
   "pygments_lexer": "ipython3",
   "version": "3.8.5"
  }
 },
 "nbformat": 4,
 "nbformat_minor": 4
}
