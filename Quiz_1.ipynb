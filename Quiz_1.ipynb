{
 "cells": [
  {
   "cell_type": "markdown",
   "metadata": {},
   "source": [
    "#### Neva Yaren Bulut  </p>Electrical-Electronics Engineering"
   ]
  },
  {
   "cell_type": "markdown",
   "metadata": {},
   "source": [
    "### ***FİBONACCİ***\n",
    "</p>Determine given number 0 to 10000 from the console is a Fibonacci number or not"
   ]
  },
  {
   "cell_type": "code",
   "execution_count": 1,
   "metadata": {},
   "outputs": [
    {
     "name": "stdin",
     "output_type": "stream",
     "text": [
      "input:  44\n"
     ]
    },
    {
     "name": "stdout",
     "output_type": "stream",
     "text": [
      "44 is not a Fibonacci Number\n"
     ]
    }
   ],
   "source": [
    "number=int(input(\"input: \"))#to not get an error put int \n",
    "firstterm=0\n",
    "secondterm=1\n",
    "thirdterm=0\n",
    "while thirdterm<number and thirdterm<10000 :\n",
    "    thirdterm=firstterm+secondterm #in fibonacci thirdterm equal sum of first two term and secondterm becomes equal third while firstterm become secondterm\n",
    "    firstterm=secondterm\n",
    "    secondterm=thirdterm\n",
    "if thirdterm==number and thirdterm<10000 :#if input=thirdterm and less than 10000,input is a fibonacci number \n",
    "    print(number,\"is a Fibonacci Number\")\n",
    "elif thirdterm>10000:\n",
    "    print(\"Number is not between 0 to 10000\")\n",
    "else:\n",
    "    print(number,\"is not a Fibonacci Number\")"
   ]
  },
  {
   "cell_type": "code",
   "execution_count": null,
   "metadata": {},
   "outputs": [],
   "source": []
  }
 ],
 "metadata": {
  "kernelspec": {
   "display_name": "Python 3",
   "language": "python",
   "name": "python3"
  },
  "language_info": {
   "codemirror_mode": {
    "name": "ipython",
    "version": 3
   },
   "file_extension": ".py",
   "mimetype": "text/x-python",
   "name": "python",
   "nbconvert_exporter": "python",
   "pygments_lexer": "ipython3",
   "version": "3.8.8"
  }
 },
 "nbformat": 4,
 "nbformat_minor": 4
}
