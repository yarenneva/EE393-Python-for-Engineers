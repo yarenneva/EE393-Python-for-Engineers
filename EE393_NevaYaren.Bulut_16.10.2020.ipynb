{
 "cells": [
  {
   "cell_type": "markdown",
   "metadata": {},
   "source": [
    "EE393 - Week 2 Self study exercises\n",
    "===================================\n",
    "- Your task is either to write or modify code to accomplish what's given in the comments area\n",
    "- Submit the completed Jupyter notebook to LMS.\n",
    "- Name it as EE393_name.surname_date_of_submission (ddmmyy)\n",
    "- Due 19.10.20\n",
    "- Cheating will not be tolerated."
   ]
  },
  {
   "cell_type": "markdown",
   "metadata": {},
   "source": [
    "#### Neva Yaren Bulut S015687"
   ]
  },
  {
   "cell_type": "code",
   "execution_count": 3,
   "metadata": {},
   "outputs": [
    {
     "name": "stdout",
     "output_type": "stream",
     "text": [
      "Pyhton 3\n"
     ]
    }
   ],
   "source": [
    "print(\"Pyhton 3\")"
   ]
  },
  {
   "cell_type": "code",
   "execution_count": 2,
   "metadata": {},
   "outputs": [
    {
     "name": "stdout",
     "output_type": "stream",
     "text": [
      "a) 1.73205080756888\n",
      "b) 0.6065306597126334\n",
      "c) 0.1418970546041639\n",
      "d) 3.3333333333333335\n",
      "17\n",
      "0x11\n"
     ]
    },
    {
     "name": "stdin",
     "output_type": "stream",
     "text": [
      "Enter a:  -4\n",
      "Enter b:  -5\n"
     ]
    },
    {
     "name": "stdout",
     "output_type": "stream",
     "text": [
      "(-4+5j)\n"
     ]
    }
   ],
   "source": [
    "# find and print the results of the following computations : \n",
    "# a) cotangent of pi/6, \n",
    "# b) square root of 1/e, \n",
    "# c) arc tangent ((1-x)/(1+x)) where x = 0.75\n",
    "# d) Equivalent resistence, Reqv, if two resistances R1 and R2 are parallelly connected. \n",
    "# Take R1=5 ohm, R2=10 ohm\n",
    "# Convert number 17.6 to int, first then convert the result to hexadecimal\n",
    "# For a given complex number a+bj, find and print the conjugate \n",
    "import sympy,math\n",
    "print(\"a)\",sympy.cot(math.pi/6))\n",
    "print(\"b)\",math.sqrt(1/math.e))\n",
    "x=0.75\n",
    "print(\"c)\",math.atan((1-x)/(1+x)))\n",
    "r1,r2=5,10\n",
    "print(\"d)\",(r1*r2)/(r1+r2))\n",
    "print(int(17.6))\n",
    "print(hex(int(17.6))) #?\n",
    "\n",
    "a=int(input(\"Enter a: \"))\n",
    "b=int(input(\"Enter b: \"))\n",
    "number=complex(a,b)\n",
    "print(number.conjugate())"
   ]
  },
  {
   "cell_type": "code",
   "execution_count": 49,
   "metadata": {},
   "outputs": [
    {
     "name": "stdout",
     "output_type": "stream",
     "text": [
      "2\n",
      "6\n",
      "19\n",
      "9\n",
      "6\n",
      "4\n"
     ]
    }
   ],
   "source": [
    "\"\"\"\n",
    "Assign each of the following to variables: 99, 3.1415, 1/7, \"Hello OzU\", 4 + 6j, [1,2,3,10] \n",
    "print number of letters in the string\n",
    "\"\"\"\n",
    "\n",
    "\n",
    "a=[99,3.1415,1/7,\"Hello OzU\",4 + 6j,[1,2,3,10]]\n",
    "\n",
    "for x in a[0:5]:\n",
    "    print(len(str(x)))\n",
    "print(len(a[5]))\n",
    "    "
   ]
  },
  {
   "cell_type": "code",
   "execution_count": 51,
   "metadata": {},
   "outputs": [
    {
     "name": "stdout",
     "output_type": "stream",
     "text": [
      "<class 'int'>\n",
      "<class 'float'>\n",
      "<class 'float'>\n",
      "<class 'str'>\n",
      "<class 'complex'>\n",
      "<class 'list'>\n"
     ]
    }
   ],
   "source": [
    "#Determine and then print the data types of the variables in the previous cell\n",
    "\n",
    "a=[99,3.1415,1/7,\"Hello OzU\",4 + 6j,[1,2,3,10]]\n",
    "for x in a:\n",
    "    print(type(x))\n"
   ]
  },
  {
   "cell_type": "code",
   "execution_count": 6,
   "metadata": {},
   "outputs": [
    {
     "name": "stdout",
     "output_type": "stream",
     "text": [
      "There is  100  characters \n",
      "There is  13  words\n",
      "Imagination is more important than wisdom. wisdom is limited. Imagination encircles the world.\n",
      "3\n"
     ]
    }
   ],
   "source": [
    "#Input into the variable sentence the following string.\n",
    "#\n",
    "#\"Imagination is more important than knowledge. Knowledge is limited. Imagination encircles the world.\"\n",
    "#Write code to answer the following questions:\n",
    "#How many characters? How many words? Replace \"knowledge\" and \"Knowledge\" with \"wisdom\" properly and\n",
    "# print the new sentences? How many sentences? Split eavh of the sentences and print each of them.\n",
    "a=\"Imagination is more important than knowledge. Knowledge is limited. Imagination encircles the world.\"\n",
    "print(\"There is \",len(a),\" characters\",\"\\nThere is \",len(a.split()),\" words\")\n",
    "print(a.replace('knowledge','wisdom').replace('Knowledge','wisdom'))\n",
    "\n",
    "sentence=0\n",
    "\n",
    "for x in a:\n",
    "   sentence+=x.count(\".\")\n",
    "print(sentence)\n",
    "\n",
    "\n",
    "\n",
    "    \n",
    "        \n",
    "\n"
   ]
  },
  {
   "cell_type": "code",
   "execution_count": 7,
   "metadata": {},
   "outputs": [
    {
     "name": "stdout",
     "output_type": "stream",
     "text": [
      "enter number: 10\n",
      "enter final number: 100\n",
      "14\n",
      "21\n",
      "28\n",
      "35\n",
      "42\n",
      "49\n",
      "56\n"
     ]
    }
   ],
   "source": [
    "#Write a program that store the first 10 numbers which are divisable by 7 \n",
    "#into a variable called div_7. Print those numbers\n",
    "\n",
    "first=int(input(\"enter number: \"))\n",
    "last=int(input(\"enter final number: \"))\n",
    "number=0\n",
    "for i in range(first,last):\n",
    " if i%7==0 and number<7:\n",
    "    number+=1\n",
    "    print(i)\n",
    "    \n"
   ]
  },
  {
   "cell_type": "code",
   "execution_count": null,
   "metadata": {},
   "outputs": [],
   "source": []
  }
 ],
 "metadata": {
  "kernelspec": {
   "display_name": "Python 3",
   "language": "python",
   "name": "python3"
  },
  "language_info": {
   "codemirror_mode": {
    "name": "ipython",
    "version": 3
   },
   "file_extension": ".py",
   "mimetype": "text/x-python",
   "name": "python",
   "nbconvert_exporter": "python",
   "pygments_lexer": "ipython3",
   "version": "3.8.8"
  }
 },
 "nbformat": 4,
 "nbformat_minor": 4
}
