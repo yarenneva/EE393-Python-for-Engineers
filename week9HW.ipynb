{
 "cells": [
  {
   "cell_type": "markdown",
   "metadata": {},
   "source": [
    "##### Neva Yaren Bulut,S015687"
   ]
  },
  {
   "cell_type": "code",
   "execution_count": 7,
   "metadata": {},
   "outputs": [],
   "source": [
    "import numpy as np\n",
    "import matplotlib.pyplot as plt\n",
    "\n",
    "def f(x):\n",
    "    return x**3 - 2*x\n"
   ]
  },
  {
   "cell_type": "code",
   "execution_count": 5,
   "metadata": {},
   "outputs": [
    {
     "name": "stdout",
     "output_type": "stream",
     "text": [
      "Please enter two number for the interval: -1 6\n",
      "Please enter the step size: 10\n"
     ]
    }
   ],
   "source": [
    "import numpy as np\n",
    "a,b=[float(x) for x in input(\"Please enter two number for the interval: \").split()]\n",
    "n=int(input(\"Please enter the step size: \"))\n",
    "x=np.linspace(a,b,n)\n",
    "y=f(x)"
   ]
  },
  {
   "cell_type": "code",
   "execution_count": 8,
   "metadata": {},
   "outputs": [
    {
     "data": {
      "image/png": "[encoded data removed]",
      "text/plain": [
       "<Figure size 432x288 with 1 Axes>"
      ]
     },
     "metadata": {
      "needs_background": "light"
     },
     "output_type": "display_data"
    }
   ],
   "source": [
    "import numpy as np\n",
    "import matplotlib.pyplot as plt\n",
    "plt.plot (x,y,\"go--\") \n",
    "plt.ylabel('Y')\n",
    "plt.xlabel('X')\n",
    "plt.title('Function')\n",
    "plt.legend(['Function'],bbox_to_anchor=(1,1))\n",
    "plt.axhline(y=0, color='r', \n",
    "            linewidth=0.5, linestyle='-')\n",
    "plt.axvline(x=0, color='r', \n",
    "            linewidth=0.5, linestyle='-')\n",
    "plt.grid()\n",
    "plt.show()"
   ]
  },
  {
   "cell_type": "code",
   "execution_count": 9,
   "metadata": {},
   "outputs": [
    {
     "name": "stdout",
     "output_type": "stream",
     "text": [
      "Identify method to find the root(lm/krylov): lm\n",
      "Identify tolerance: 1E-6\n",
      "The root x is approximately x= [1.41421356]\n",
      " output\n",
      " -------------------- \n",
      "    cov_x: array([[0.0625]])\n",
      "    fjac: array([[-4.0000001]])\n",
      "     fun: array([4.4408921e-16])\n",
      "    ipvt: array([1], dtype=int32)\n",
      " message: 'The relative error between two consecutive iterates is at most 0.000001'\n",
      "    nfev: 15\n",
      "     qtf: array([-2.36787923e-10])\n",
      "  status: 2\n",
      " success: True\n",
      "       x: array([1.41421356])\n"
     ]
    }
   ],
   "source": [
    "m=input(\"Identify method to find the root(lm/krylov): \")\n",
    "t=float(input(\"Identify tolerance: \"))\n",
    "from scipy.optimize import fsolve, root\n",
    "if m=='lm':\n",
    "     #we need to specify an initial value\n",
    "    x_initial = 3.0 #an initial value is needed for shooting\n",
    "    #if function has multiple roots, we need to change the initial value\n",
    "    #we can specify a method, and a tolerance\n",
    "    r = root (f, x_initial, method=\"lm\", tol=t)           # one root is at x=2.0\n",
    "    print(\"The root x is approximately x=\",r[\"x\"])\n",
    "    print (\" output\\n\",20*\"-\",\"\\n\", r)\n"
   ]
  },
  {
   "cell_type": "code",
   "execution_count": null,
   "metadata": {},
   "outputs": [],
   "source": []
  }
 ],
 "metadata": {
  "kernelspec": {
   "display_name": "Python 3",
   "language": "python",
   "name": "python3"
  },
  "language_info": {
   "codemirror_mode": {
    "name": "ipython",
    "version": 3
   },
   "file_extension": ".py",
   "mimetype": "text/x-python",
   "name": "python",
   "nbconvert_exporter": "python",
   "pygments_lexer": "ipython3",
   "version": "3.8.8"
  }
 },
 "nbformat": 4,
 "nbformat_minor": 4
}
