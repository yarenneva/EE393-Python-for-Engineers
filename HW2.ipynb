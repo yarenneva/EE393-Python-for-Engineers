{
 "cells": [
  {
   "cell_type": "markdown",
   "metadata": {},
   "source": [
    "Neva Yaren Bulut, S015687"
   ]
  },
  {
   "cell_type": "markdown",
   "metadata": {},
   "source": [
    "<font color=\"red\"><b>EE393 HW -22.11.2020 </b></font><br>\n",
    "A DNA microarray (also commonly known as DNA chip or biochip) is a collection of microscopic DNA spots attached to a solid surface. Scientists use DNA microarrays to measure the expression levels of large numbers of genes simultaneously or to genotype multiple regions of a genome. <br><br>In the following table we have expression values for 4 genes at 4 time points. These are completely made up data. Although, some of the questions can be easily answered by looking at the data, microarray data generally come in much larger tables and if you can figure it out here the same code will work for an entire gene chip.\n",
    "<table align=\"left\">\n",
    "    <tr><td>Gene name</td><td>4h</td><td>12h</td><td>24h</td><td>48h</td></tr>\n",
    "    <tr><td>A2M</td><td>0.12</td><td>0.08</td><td>0.06</td><td>0.02</td></tr>\n",
    "    <tr><td>FOS</td><td>0.01</td><td>0.07</td><td>0.11</td><td>0.09</td></tr>\n",
    "    <tr><td>BRCA2</td><td>0.03</td><td>0.04</td><td>0.04</td><td>0.02</td></tr>\n",
    "    <tr><td>CPOX</td><td>0.05</td><td>0.09</td><td>0.11</td><td>0.14</td></tr>\n",
    "</table>\n",
    "<div style=\"float:left;\">\n",
    "<br>\n",
    "Complete the following tasks as described in the comments area of each of the cells below. <br>\n",
    "<ul>\n",
    "<li>In each of the task, you need to write necessary Python and numpy/sippy/matplotlib codes and create some print-out.</li>\n",
    "<li>Give proper and meaningful names to your variables </li>\n",
    "<li>Good commenting is encouraged! </li>\n",
    "<li>Do not forget to import necessary libraries in the first cell. </li>\n",
    "<li>You may add additional cells if needed. </li>\n",
    "    <li>GRADING: Q1 to Q5; 8pts each; Q6 to Q9: 15pts each</li>\n",
    "</div>"
   ]
  },
  {
   "cell_type": "code",
   "execution_count": 9,
   "metadata": {},
   "outputs": [
    {
     "name": "stdout",
     "output_type": "stream",
     "text": [
      "[[0.12 0.08 0.06 0.02]\n",
      " [0.01 0.07 0.11 0.09]\n",
      " [0.03 0.04 0.04 0.02]\n",
      " [0.05 0.09 0.11 0.14]]\n"
     ]
    }
   ],
   "source": [
    "# 1. create a single numpy array which holds the data shown in Q1(4x4)\n",
    "import numpy as np\n",
    "a=np.array([[0.12,0.08,0.06,0.02],\n",
    "            [0.01,0.07,0.11,0.09],\n",
    "            [0.03,0.04,0.04,0.02],\n",
    "            [0.05,0.09,0.11,0.14]])#I used numpy as I learnt at class\n",
    "\n",
    "print(a)#I used a numpy array to hold the given data\n"
   ]
  },
  {
   "cell_type": "code",
   "execution_count": 8,
   "metadata": {},
   "outputs": [
    {
     "name": "stdout",
     "output_type": "stream",
     "text": [
      "mean of A2M is 0.07\n",
      "mean of FOS is 0.07\n",
      "mean of BRCA2 is 0.0325\n",
      "mean of CPOX is 0.0975\n"
     ]
    }
   ],
   "source": [
    "# 2. find the mean expression value per gene\n",
    "import numpy as np\n",
    "i=0\n",
    "geneList=np.array([[0.12,0.08,0.06,0.02],\n",
    "                   [0.01,0.07,0.11,0.09],\n",
    "                   [0.03,0.04,0.04,0.02],\n",
    "                   [0.05,0.09,0.11,0.14]])\n",
    "#print(geneList.mean(axis=1)) anotherway to find each row mean\n",
    "while i<4:#to write genename I used while loop. I could solve as I did at third question.\n",
    "    for x in geneList:\n",
    "        geneName=np.array(['A2M', 'FOS', 'BRCA2','CPOX'])\n",
    "        print(\"mean of\",geneName[i],\"is\",np.mean(x))\n",
    "        i+=1"
   ]
  },
  {
   "cell_type": "code",
   "execution_count": 5,
   "metadata": {},
   "outputs": [
    {
     "name": "stdout",
     "output_type": "stream",
     "text": [
      "4h mean is 0.052500000000000005\n",
      "12h mean is 0.07\n",
      "24h mean is 0.08\n",
      "48h mean is 0.0675\n"
     ]
    }
   ],
   "source": [
    "# 3. find the mean expression value per time point\n",
    "import numpy as np\n",
    "geneList=np.array([[0.12,0.08,0.06,0.02],\n",
    "                   [0.01,0.07,0.11,0.09],\n",
    "                   [0.03,0.04,0.04,0.02],\n",
    "                   [0.05,0.09,0.11,0.14]])\n",
    "print('4h mean is',np.mean(geneList [:,0]))#I found mean by selecting all rows for aech column.\n",
    "print('12h mean is',np.mean(geneList[:,1]))\n",
    "print('24h mean is',np.mean(geneList[:,2]))\n",
    "print('48h mean is',np.mean(geneList[:,3]))"
   ]
  },
  {
   "cell_type": "code",
   "execution_count": 11,
   "metadata": {},
   "outputs": [
    {
     "data": {
      "text/plain": [
       "'CPOX'"
      ]
     },
     "execution_count": 11,
     "metadata": {},
     "output_type": "execute_result"
    }
   ],
   "source": [
    "# 4. which gene has the maximum mean expression value?\n",
    "import numpy as np\n",
    "geneList={'A2M':np.mean([0.12,0.08,0.06,0.02]),'FOS':np.mean([0.01,0.07,0.11,0.09]),'BRCA2':np.mean([0.03,0.04,0.04,0.02]),'CPOX':np.mean([0.05,0.09,0.11,0.14])}\n",
    "max(geneList, key=geneList.get)\n",
    "#I used dictionary to add labels as key.Then, to get mean values,I used NumPy to get mean. \n",
    "#In order to get key with maximum value in dictionary, I used max function."
   ]
  },
  {
   "cell_type": "code",
   "execution_count": 12,
   "metadata": {},
   "outputs": [
    {
     "data": {
      "text/plain": [
       "[('BRCA2', 0.04), ('FOS', 0.11), ('A2M', 0.12), ('CPOX', 0.14)]"
      ]
     },
     "execution_count": 12,
     "metadata": {},
     "output_type": "execute_result"
    }
   ],
   "source": [
    "# 5. sort the gene names by the max expression value?\n",
    "import numpy as np\n",
    "geneList={'A2M':np.max([0.12,0.08,0.06,0.02]),'FOS':np.max([0.01,0.07,0.11,0.09]),'BRCA2':np.max([0.03,0.04,0.04,0.02]),'CPOX':np.max([0.05,0.09,0.11,0.14])}\n",
    "sorted(geneList.items(), key=lambda x:x[1])\n",
    "\n",
    "#I used dictionary to add row values.Then to get maximum values of an array row,I used max.\n",
    "#In order to get sorted gene names, I used sorted function. x:x[1]; it sorts by looking first index of geneList. \n",
    "#Thus, by geneList.items(),sorted all the key value pairs shown."
   ]
  },
  {
   "cell_type": "code",
   "execution_count": 13,
   "metadata": {},
   "outputs": [
    {
     "name": "stdout",
     "output_type": "stream",
     "text": [
      "OZU [0.1025 0.0729 0.0651 0.0474]\n"
     ]
    }
   ],
   "source": [
    "# 6. a new gene is defined which is A2M+0.2*FOS-BRCA2+0.21*CPOX. Find it and name it az OZU\n",
    "import numpy as np\n",
    "geneList=np.array([[0.12,0.08,0.06,0.02],#A2M\n",
    "                   [0.01,0.07,0.11,0.09],#FOS\n",
    "                   [0.03,0.04,0.04,0.02],#BRCA2\n",
    "                   [0.05,0.09,0.11,0.14]])#CPOX\n",
    "OZU=geneList[0]+geneList[1]*0.2-geneList[2]+0.21*geneList[3]\n",
    "print('OZU',OZU)\n",
    "#I did elementwise calculations.\n",
    "#I did not round the OZU gene but if I did \n",
    "#OZU=np.round(geneList[0]+geneList[1]*0.2-geneList[2]+0.21*geneList[3], 2)\n",
    "#roundedOZU=np.round(geneList[0]+geneList[1]*0.2-geneList[2]+0.21*geneList[3], 2)\n",
    "#print(\"rounded OZU\",roundedOZU)"
   ]
  },
  {
   "cell_type": "code",
   "execution_count": 3,
   "metadata": {},
   "outputs": [
    {
     "name": "stdout",
     "output_type": "stream",
     "text": [
      "[[0.12    0.08    0.06    0.023  ]\n",
      " [0.0115  0.07    0.11    0.09   ]\n",
      " [0.0345  0.046   0.046   0.023  ]\n",
      " [0.05    0.09    0.11    0.14   ]\n",
      " [0.1025  0.0729  0.0651  0.05451]]\n"
     ]
    }
   ],
   "source": [
    "# 7. The researchers found it necessary to increase all values less than 0.05 by 15%.\n",
    "import numpy as np\n",
    "geneList=np.array([[0.12,0.08,0.06,0.02],#A2M\n",
    "                   [0.01,0.07,0.11,0.09],#FOS\n",
    "                   [0.03,0.04,0.04,0.02],#BRCA2\n",
    "                   [0.05,0.09,0.11,0.14],#CPOX\n",
    "                   [0.1025,0.0729,0.0651,0.0474]])#OZU\n",
    "#                     two condition\n",
    "newList=np.where(geneList < 0.05,1.15*geneList,geneList)\n",
    "print(newList)\n",
    "#I used np.where to increase elements below 0.05 by 15%. Elements less than 0.05 will multiply 1.15.\n",
    "#If it is not less than 0.05, it will be the same element.\n",
    "#I also added the new gene I found at question 6."
   ]
  },
  {
   "cell_type": "code",
   "execution_count": 2,
   "metadata": {},
   "outputs": [
    {
     "name": "stdout",
     "output_type": "stream",
     "text": [
      "[0.12 0.1  0.08 0.07 0.07 0.06 0.05 0.05 0.04 0.04 0.03 0.02] \n",
      "[0.01 0.04 0.07 0.08 0.1  0.11 0.11 0.1  0.1  0.1  0.09 0.09] \n",
      "[0.03 0.04 0.05 0.05 0.05 0.05 0.04 0.04 0.03 0.03 0.03 0.02] \n",
      "[0.05 0.07 0.09 0.1  0.1  0.11 0.12 0.12 0.12 0.13 0.14 0.14] \n",
      "[0.1  0.09 0.07 0.07 0.07 0.07 0.06 0.06 0.06 0.06 0.06 0.05] \n"
     ]
    }
   ],
   "source": [
    "# 8. It was necessary to calculate values for each of the genes for every \n",
    "# 4h starting from 4h. That is, values are needed for 4h, 8h, 12h, 16h, 20h...48h\n",
    "# it is therefore necessary to make an interpolation. Make the interpolation\n",
    "# using proper scipy functions, and then print values for each of the genes in \n",
    "# separate print statements with a fancy format\n",
    "import numpy as np\n",
    "from scipy import interpolate\n",
    "\n",
    "x = np.array([4,12,24,48])           #I solved it using updated data from 5 and 6. \n",
    "A2M = np.array([0.12,0.08,0.06,0.023])\n",
    "FOS = np.array([0.0115,0.07,0.11,0.09])\n",
    "BRCA2= np.array([0.0345,0.046,0.046,0.023])\n",
    "CPOX= np.array([0.05,0.09,0.11,0.14])\n",
    "OZU=np.array([0.1025,0.0729,0.0651,0.05451])\n",
    "\n",
    "f1 = interpolate.interp1d(x,A2M,kind = 'linear')#I interpolated for each gene separately.\n",
    "f2=interpolate.interp1d(x,FOS,kind = 'linear')\n",
    "f3=interpolate.interp1d(x,BRCA2,kind = 'linear')\n",
    "f4=interpolate.interp1d(x,CPOX,kind = 'linear')\n",
    "f5=interpolate.interp1d(x,OZU,kind = 'linear')\n",
    "new=([f1,f2,f3,f4,f5])\n",
    "i=0\n",
    "\n",
    "while i<5:\n",
    "    \n",
    "    print(np.round(new[i](np.linspace(4,48,12)),2),end=\" \\n\")#I rounded the result\n",
    "    i=i+1"
   ]
  },
  {
   "cell_type": "code",
   "execution_count": 1,
   "metadata": {},
   "outputs": [
    {
     "data": {
      "image/png": "[encoded data removed]",
      "text/plain": [
       "<Figure size 432x288 with 1 Axes>"
      ]
     },
     "metadata": {
      "needs_background": "light"
     },
     "output_type": "display_data"
    }
   ],
   "source": [
    "# 9. for each gene, plot the gene values with respect to time using interpolated values .\n",
    "import numpy as np\n",
    "from scipy import interpolate\n",
    "\n",
    "x = np.array([4,12,24,48])           #I solved it using updated data from 5 and 6. \n",
    "A2M = np.array([0.12,0.08,0.06,0.023])\n",
    "FOS = np.array([0.0115,0.07,0.11,0.09])\n",
    "BRCA2= np.array([0.0345,0.046,0.046,0.023])\n",
    "CPOX= np.array([0.05,0.09,0.11,0.14])\n",
    "OZU=np.array([0.1025,0.0729,0.0651,0.05451])\n",
    "\n",
    "f1 = interpolate.interp1d(x,A2M,kind = 'linear')#I interpolated for each gene separately.\n",
    "f2=interpolate.interp1d(x,FOS,kind = 'linear')\n",
    "f3=interpolate.interp1d(x,BRCA2,kind = 'linear')\n",
    "f4=interpolate.interp1d(x,CPOX,kind = 'linear')\n",
    "f5=interpolate.interp1d(x,OZU,kind = 'linear')\n",
    "new=([f1,f2,f3,f4,f5])\n",
    "import matplotlib.pyplot as plt\n",
    "xnew=np.linspace(4,48,12)\n",
    "plt.plot(xnew, f1(xnew),'o--',xnew,f2(xnew),'ro-',xnew,f3(xnew),'g^-',xnew,f4(xnew),'ys-',xnew,f5(xnew),'x--')\n",
    "plt.legend(['A2M','FOS','BRCA2','CPOX','OZU'],bbox_to_anchor=(1,1))#I put the legend outside.\n",
    "plt.show()\n",
    "#I solved it using updated data from 5 and 6.\n"
   ]
  },
  {
   "cell_type": "code",
   "execution_count": null,
   "metadata": {},
   "outputs": [],
   "source": []
  }
 ],
 "metadata": {
  "kernelspec": {
   "display_name": "Python 3",
   "language": "python",
   "name": "python3"
  },
  "language_info": {
   "codemirror_mode": {
    "name": "ipython",
    "version": 3
   },
   "file_extension": ".py",
   "mimetype": "text/x-python",
   "name": "python",
   "nbconvert_exporter": "python",
   "pygments_lexer": "ipython3",
   "version": "3.8.5"
  }
 },
 "nbformat": 4,
 "nbformat_minor": 4
}
