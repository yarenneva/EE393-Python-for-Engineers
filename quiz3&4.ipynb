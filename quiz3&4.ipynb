{
 "cells": [
  {
   "cell_type": "code",
   "execution_count": 1,
   "metadata": {},
   "outputs": [
    {
     "name": "stdout",
     "output_type": "stream",
     "text": [
      "\n",
      "['1a', '1b', '1c', '2a', '2b', '2c', '3a', '3b', '3c'],\n",
      "\n",
      "['a1', 'b1', 'c1', 'a2', 'b2', 'c2', 'a3', 'b3', 'c3'],\n",
      "\n",
      "Final List: ['1a', 'a1', '1b', 'b1', '1c', 'c1', '2a', 'a2', '2b', 'b2', '2c', 'c2', '3a', 'a3', '3b', 'b3', '3c', 'c3']\n",
      "final list: ['1a', 'a1', '1b', 'b1', '1c', 'c1', '2a', 'a2', '2b', 'b2', '2c', 'c2', '3a', 'a3', '3b', 'b3', '3c', 'c3']\n"
     ]
    }
   ],
   "source": [
    "list1 = [1,2,3] \n",
    "list2 = ['a','b','c']\n",
    "lista = []\n",
    "listb = []\n",
    "final_list = []\n",
    "for i in range(len(list1)):\n",
    "    for j in range(len(list2)):\n",
    "        \n",
    "        # the below two lines can be removed.\n",
    "        lista.append(str(list1[i])+str(list2[j])) \n",
    "        listb.append(str(list2[j])+str(list1[i]))\n",
    "        \n",
    "        final_list.append(str(list1[i])+str(list2[j]))\n",
    "        final_list.append(str(list2[j])+str(list1[i]))\n",
    "        \n",
    "print(f\"\\n{lista},\\n\\n{listb},\\n\\nFinal List: {final_list}\")\n",
    "print(\"final list:\",final_list)"
   ]
  },
  {
   "cell_type": "code",
   "execution_count": null,
   "metadata": {},
   "outputs": [],
   "source": []
  }
 ],
 "metadata": {
  "kernelspec": {
   "display_name": "Python 3",
   "language": "python",
   "name": "python3"
  },
  "language_info": {
   "codemirror_mode": {
    "name": "ipython",
    "version": 3
   },
   "file_extension": ".py",
   "mimetype": "text/x-python",
   "name": "python",
   "nbconvert_exporter": "python",
   "pygments_lexer": "ipython3",
   "version": "3.8.8"
  }
 },
 "nbformat": 4,
 "nbformat_minor": 4
}
